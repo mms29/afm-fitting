{
 "cells": [
  {
   "cell_type": "markdown",
   "id": "3d2b3bc2-ac9a-4231-ad32-1f3d923530c5",
   "metadata": {},
   "source": [
    "# AFMFIT TUTORIAL version 0.1"
   ]
  },
  {
   "cell_type": "markdown",
   "id": "0dd35668-5e9c-480b-97b0-8552d40a704f",
   "metadata": {},
   "source": [
    "## 1. Import the AFM images\n",
    "\n",
    "The first step is to import the AFM images "
   ]
  },
  {
   "cell_type": "code",
   "execution_count": 13,
   "id": "48f53ed0-47e6-4da2-93db-11e51edce21c",
   "metadata": {},
   "outputs": [
    {
     "name": "stdout",
     "output_type": "stream",
     "text": [
      "Using matplotlib backend: TkAgg\n",
      "Read 100 images of size 40 x 40 \n"
     ]
    }
   ],
   "source": [
    "%matplotlib\n",
    "from afmfit.image import ImageSet\n",
    "\n",
    "# import the example images contained in the tiff\n",
    "imgs = ImageSet.read_tif(\"/home/AD/vuillemr/Code/afm-fitting/afmfit/examples/examples_data/ef2.tiff\", vsize=7.0, unit=\"m\")\n",
    "\n",
    "# displays the images in a separate window\n",
    "imgs.show()"
   ]
  },
  {
   "cell_type": "markdown",
   "id": "eca17ce3-5777-4b0c-9a94-17527e99a6da",
   "metadata": {},
   "source": [
    "## 2. Mask the input images\n",
    "\n",
    "It is useful to mask the contour of the molecule to facilitate the fitting"
   ]
  },
  {
   "cell_type": "code",
   "execution_count": 5,
   "id": "3abed67c-9041-4c47-8f7c-0a6a4f68d57d",
   "metadata": {},
   "outputs": [],
   "source": [
    "from afmfit.image import mask_interactive\n",
    "\n",
    "# The default parameters can be kept\n",
    "masks = mask_interactive(imgs.imgs)"
   ]
  },
  {
   "cell_type": "markdown",
   "id": "3fac0f41-84f1-4da0-a6d5-645748f6e904",
   "metadata": {},
   "source": [
    "## 3. Import the PDB\n",
    "\n",
    "Read the PDB file to be used as initial model "
   ]
  },
  {
   "cell_type": "code",
   "execution_count": 6,
   "id": "ceaaa954-7072-4309-a3ba-ad06f22ffc40",
   "metadata": {},
   "outputs": [
    {
     "name": "stdout",
     "output_type": "stream",
     "text": [
      "The PDB file contains 6215 atoms\n"
     ]
    },
    {
     "name": "stderr",
     "output_type": "stream",
     "text": [
      "/bin/bash: /home/AD/vuillemr/miniconda/envs/scipion3/lib/libtinfo.so.6: no version information available (required by /bin/bash)\n",
      "WARNING: Replacing fetcher for 'pdb_nmr' and format NMRSTAR from NMRSTAR bundle with that from NMRSTAR bundle\n"
     ]
    }
   ],
   "source": [
    "from afmfit.pdbio import PDB\n",
    "\n",
    "# read the PDB file\n",
    "pdb = PDB( \"/home/AD/vuillemr/Code/afm/ref.pdb\")\n",
    "\n",
    "# center the atoms around the coordinate 0,0,0\n",
    "pdb.center()\n",
    "\n",
    "print(\"The PDB file contains %i atoms\"%pdb.n_atoms)\n",
    "\n",
    "# Show in ChimeraX\n",
    "pdb.viewChimera()"
   ]
  },
  {
   "cell_type": "markdown",
   "id": "05ce7f64-db59-4a6f-b0d2-b7974a2ed35a",
   "metadata": {},
   "source": [
    "## 4. Calculate NMA\n",
    "\n",
    "Performs Normal Mode Analysis using NOLB"
   ]
  },
  {
   "cell_type": "code",
   "execution_count": 9,
   "id": "6f3e8a57-f25d-42f9-97e6-08d881905c6e",
   "metadata": {
    "scrolled": true
   },
   "outputs": [
    {
     "name": "stdout",
     "output_type": "stream",
     "text": [
      "*******************************************************************\n",
      "*-----------------------------------------------------------------*\n",
      "*-----------NOLB : a Non-Linear rigid block NMA method------------*\n",
      "*----------Authors: Alexandre Hoffmann & Sergei Grudinin----------*\n",
      "*---------Copyright (c): UGA/CNRS Grenoble, France, 2023.---------*\n",
      "*-------- e-mail: sergei.grudinin@univ-grenoble-alpes.fr ---------*\n",
      "*---- http://team.inria.fr/nano-d/software/nolb-normal-modes/ ----*\n",
      "*-----------------------------------------------------------------*\n",
      "*******************************************************************\n",
      "Hostname......................................................... : ljk-ad-77\n",
      "Run at........................................................... : Wed Apr 10 09:55:42 2024\n",
      "Command-line arguments........................................... : /home/AD/vuillemr/Code/afm/venv/lib/python3.10/site-packages/afmfit/nolb/NOLB /tmp/tmpts74821s/.pdb -o /tmp/tmpts74821s/ -s 0 -n 3 --format 3 -c 8.000000 \n",
      "=====================Reading input PDB file======================\n",
      "Input PDB file................................................... : /tmp/tmpts74821s/.pdb\n",
      "Number of chains read............................................ : 1\n",
      "Number of atoms read............................................. : 6215\n",
      "======================Constructing Hessian=======================\n",
      "Number of disconnected atoms..................................... : 0\n",
      "Number of interactions........................................... : 511685\n",
      "Interaction cutoff distance...................................... : 8 A\n",
      "from pymol.cgo import *\n",
      "obj = [ BEGIN, LINES ]\n",
      "obj.extend( [ END ])\n",
      "cmd.load_cgo(obj,\"Hbonds\")\n",
      "Memory required for the Hessian matrix........................... : 105.404 Mb\n",
      "All-atom Hessian size : ......................................... : 18645 x 18645\n",
      "============================Doing NMA============================\n",
      "Memory required for the RTB projection matrix.................... : 1.707 Mb\n",
      "Reduced Hessian size : .......................................... : 4818 x 4818\n",
      "Number of computed modes......................................... : 3 \n",
      "Null-space size.................................................. : 1 \n",
      "Lowest mode frequency............................................ : 0.000969125 \n",
      "Highest mode frequency........................................... : 0.00157602 \n",
      "Frequencies :\n",
      "            [ 1]................................................. : 0.000969125 \n",
      "            [ 2]................................................. : 0.00149778 \n",
      "            [ 3]................................................. : 0.00157602 \n",
      "==================Writing Modes In Two Formats===================\n",
      "Using output mask................................................ : /tmp/tmpts74821s/\n",
      "Using output filename for linear modes........................... : /tmp/tmpts74821s/_linear_modes.txt\n",
      "Using output rtb filename........................................ : /tmp/tmpts74821s/_rtb.txt\n",
      "Using output rtb mapping filename................................ : /tmp/tmpts74821s/_rtb-mapping.txt\n",
      "=================================================================\n",
      "=========================== Timing : ============================\n",
      "=================================================================\n",
      "Parsing arguments................................................ : 0.0001745 s\n",
      "Reading input PDB file........................................... : 0.00590595 s\n",
      "Constructing Hessian............................................. : 0.188302 s\n",
      "Doing NMA........................................................ : 0.548862 s\n",
      "Writing Modes In Two Formats..................................... : 0.0530209 s\n",
      ".................................................................\n",
      "Total time : .................................................... : 0.796266 s\n",
      "=================================================================\n",
      "\n",
      "Main Reference: Alexandre Hoffmann & Sergei Grudinin. NOLB : Nonlinear rigid block normal mode analysis method. Journal of Chemical Theory and Computation, 2017, 13 (5), pp.2123-2134. DOI: 10.1021/acs.jctc.7b00197.\n",
      "\n",
      "> Wrinting dcd file /tmp/tmpogs5bxk7/mode7.dcd\n",
      "\t Done \n",
      "\n",
      "> Wrinting dcd file /tmp/tmpogs5bxk7/mode8.dcd\n",
      "\t Done \n",
      "\n",
      "> Wrinting dcd file /tmp/tmpogs5bxk7/mode9.dcd\n",
      "\t Done \n",
      "\n"
     ]
    },
    {
     "name": "stderr",
     "output_type": "stream",
     "text": [
      "/bin/bash: /home/AD/vuillemr/miniconda/envs/scipion3/lib/libtinfo.so.6: no version information available (required by /bin/bash)\n",
      "WARNING: Replacing fetcher for 'pdb_nmr' and format NMRSTAR from NMRSTAR bundle with that from NMRSTAR bundle\n"
     ]
    }
   ],
   "source": [
    "from afmfit.nma import NormalModesRTB\n",
    "\n",
    "# Set the desired number of modes and cutoff (in Angstrom) for the elastic network model (higher cutoff= more rigid)\n",
    "nma = NormalModesRTB.calculate_NMA(pdb,nmodes=3, cutoff=8.0)\n",
    "\n",
    "# Show in ChimeraX\n",
    "nma.viewChimera(amp= 1000)"
   ]
  },
  {
   "cell_type": "markdown",
   "id": "cecc47c3-aff0-459b-95bc-f602eb053ecd",
   "metadata": {},
   "source": [
    "## 5. Set the AFM image simulator\n",
    "\n",
    "The fitting compares AFM-like images of the initial model to AFM experiments.\n",
    "This section defines the parameters of the AFM simulator."
   ]
  },
  {
   "cell_type": "code",
   "execution_count": 6,
   "id": "da51901b-2d0d-40c0-8e6b-7cb59e7297f9",
   "metadata": {},
   "outputs": [
    {
     "name": "stdout",
     "output_type": "stream",
     "text": [
      "Using matplotlib backend: TkAgg\n"
     ]
    },
    {
     "ename": "NameError",
     "evalue": "name 'pdb' is not defined",
     "output_type": "error",
     "traceback": [
      "\u001b[0;31m---------------------------------------------------------------------------\u001b[0m",
      "\u001b[0;31mNameError\u001b[0m                                 Traceback (most recent call last)",
      "Cell \u001b[0;32mIn[6], line 14\u001b[0m\n\u001b[1;32m      9\u001b[0m simulator \u001b[38;5;241m=\u001b[39m AFMSimulator(size\u001b[38;5;241m=\u001b[39mimgs\u001b[38;5;241m.\u001b[39msize, \n\u001b[1;32m     10\u001b[0m                          vsize\u001b[38;5;241m=\u001b[39mimgs\u001b[38;5;241m.\u001b[39mvsize, \n\u001b[1;32m     11\u001b[0m                          beta\u001b[38;5;241m=\u001b[39m\u001b[38;5;241m1.0\u001b[39m, sigma\u001b[38;5;241m=\u001b[39m\u001b[38;5;241m3.2\u001b[39m, cutoff\u001b[38;5;241m=\u001b[39m\u001b[38;5;241m40\u001b[39m)\n\u001b[1;32m     13\u001b[0m \u001b[38;5;66;03m# Create an image of the PDB that have been loaded\u001b[39;00m\n\u001b[0;32m---> 14\u001b[0m image \u001b[38;5;241m=\u001b[39m simulator\u001b[38;5;241m.\u001b[39mpdb2afm(\u001b[43mpdb\u001b[49m)\n\u001b[1;32m     16\u001b[0m \u001b[38;5;66;03m# show the generated image vs the AFM image\u001b[39;00m\n\u001b[1;32m     17\u001b[0m viewAFM([image, imgs\u001b[38;5;241m.\u001b[39mimgs[\u001b[38;5;241m0\u001b[39m]])\n",
      "\u001b[0;31mNameError\u001b[0m: name 'pdb' is not defined"
     ]
    }
   ],
   "source": [
    "%matplotlib\n",
    "from afmfit.simulator import AFMSimulator\n",
    "from afmfit.viewer import viewAFM\n",
    "\n",
    "# Set the parameters to simulate the pseudo-AFM images used for the fitting\n",
    "#  - sigma controls the smoothness\n",
    "#  - cutoff (angstrom) decrease the computational time for smaller values \n",
    "#  - beta can be kept to 1\n",
    "simulator = AFMSimulator(size=imgs.size, \n",
    "                         vsize=imgs.vsize, \n",
    "                         beta=1.0, sigma=3.2, cutoff=40)\n",
    "\n",
    "# Create an image of the PDB that have been loaded\n",
    "image = simulator.pdb2afm(pdb)\n",
    "\n",
    "# show the generated image vs the AFM image\n",
    "viewAFM([image, imgs.imgs[0]])\n"
   ]
  },
  {
   "cell_type": "markdown",
   "id": "3ac50963-9413-44aa-902b-007480ac6f29",
   "metadata": {},
   "source": [
    "## 6. Rigid Fitting\n",
    "\n",
    "The rigid fitting performs a global alignment of the PDB with the images"
   ]
  },
  {
   "cell_type": "code",
   "execution_count": 2,
   "id": "ec678ad0-7292-41a2-9920-10da178ebce9",
   "metadata": {},
   "outputs": [],
   "source": [
    "# import the fitter\n",
    "from afmfit.fitting import Fitter"
   ]
  },
  {
   "cell_type": "code",
   "execution_count": 32,
   "id": "42c9735e-e897-4803-87dd-8681acaa1144",
   "metadata": {},
   "outputs": [
    {
     "name": "stderr",
     "output_type": "stream",
     "text": [
      "Project Library: 100%|██████████████████████████████████████████████████████████████████████████████████████████████████████████████████████████████████████████████████████████████| 11304/11304 [00:12<00:00, 927.51it/s]\n",
      "Projection Matching: 100%|███████████████████████████████████████████████████████████████████████████████████████████████████████████████████████████████████████████████████████████████| 100/100 [01:18<00:00,  1.28it/s]\n"
     ]
    }
   ],
   "source": [
    "import numpy as np\n",
    "\n",
    "# defines the fitter\n",
    "fitter = Fitter(pdb=pdb, imgs=masks * imgs.imgs, simulator=simulator)\n",
    "\n",
    "# Performs the rigid fitting\n",
    "# - n_cpu : set the number of cpus to use\n",
    "# - angular_dist :  set the angular increment for the rigid-body search\n",
    "# - zshift_range : set the translational increment in the z-axis for the rigid body search. Ex : between -20 Ang and 20 Ang with 10 increments\n",
    "fitter.fit_rigid(n_cpu=12, \n",
    "                 angular_dist=10, \n",
    "                 verbose=True, \n",
    "                 zshift_range=np.linspace(-20,20,10))\n",
    "\n",
    "# save the fitting on the disk\n",
    "fitter.dump(\"/home/AD/vuillemr/Code/afm/rigid.pkl\")"
   ]
  },
  {
   "cell_type": "code",
   "execution_count": 16,
   "id": "d154acc7-f4a3-40cf-9f67-0a5431f6082f",
   "metadata": {},
   "outputs": [],
   "source": [
    "# load the fitting\n",
    "fitter = Fitter.load(\"/home/AD/vuillemr/Code/afm/rigid.pkl\")\n",
    "\n",
    "# show the angular assignement\n",
    "fitter.show_rigid()"
   ]
  },
  {
   "cell_type": "markdown",
   "id": "341a365c-ab7f-4481-88d3-fd7fd6170c65",
   "metadata": {},
   "source": [
    "## 7. Flexible fitting\n",
    "\n",
    "Flexibly aligns the model with the images"
   ]
  },
  {
   "cell_type": "code",
   "execution_count": 34,
   "id": "eb0ec9de-5fc7-4d99-90f9-535a3d323832",
   "metadata": {},
   "outputs": [
    {
     "name": "stderr",
     "output_type": "stream",
     "text": [
      "Flexible Fitting: 100%|██████████████████████████████████████████████████████████████████████████████████████████████████████████████████████████████████████████████████████████████████| 100/100 [03:28<00:00,  2.09s/it]\n"
     ]
    }
   ],
   "source": [
    "fitter.fit_flexible(n_cpu=12, \n",
    "                    nma=nma, \n",
    "                    n_best_views=5,\n",
    "                    n_iter=10, \n",
    "                    gamma=20, \n",
    "                    gamma_rigid=10, \n",
    "                    verbose=True)\n",
    "\n",
    "fitter.dump(\"/home/AD/vuillemr/Code/afm/flexible.pkl\")"
   ]
  },
  {
   "cell_type": "code",
   "execution_count": 3,
   "id": "6e557381-b0eb-43bd-bf18-56f19af67d57",
   "metadata": {},
   "outputs": [],
   "source": [
    "fitter = Fitter.load(\"/home/AD/vuillemr/Code/afm/flexible.pkl\")\n",
    "\n",
    "fitter.show()"
   ]
  },
  {
   "cell_type": "markdown",
   "id": "aea76887-a4e8-4707-9547-de39ec2a485e",
   "metadata": {},
   "source": [
    "## 8 Conformational Space with PCA"
   ]
  },
  {
   "cell_type": "code",
   "execution_count": 12,
   "id": "b4514a40-a458-45f8-91e0-7fb6f5fdd8f0",
   "metadata": {},
   "outputs": [
    {
     "name": "stderr",
     "output_type": "stream",
     "text": [
      "/bin/bash: /home/AD/vuillemr/miniconda/envs/scipion3/lib/libtinfo.so.6: no version information available (required by /bin/bash)\n",
      "WARNING: Replacing fetcher for 'pdb_nmr' and format NMRSTAR from NMRSTAR bundle with that from NMRSTAR bundle\n"
     ]
    }
   ],
   "source": [
    "from afmfit.utils import DimRed\n",
    "\n",
    "pca =DimRed.from_fitter(fitter=fitter, method=\"pca\", n_components=10, )\n",
    "# umap =DimRed.from_fitter(fitter=fitter, method=\"umap\", n_components=2 )\n",
    "\n",
    "pca.show(ax=[0,1], cval=fitter.get_best_rmsd(), cname=\"RMSD ($\\AA$)\" )\n",
    "pca.show_pca_ev()\n",
    "pca.viewAxisChimera(ax=0, avg=True)"
   ]
  }
 ],
 "metadata": {
  "kernelspec": {
   "display_name": "Python 3 (ipykernel)",
   "language": "python",
   "name": "python3"
  },
  "language_info": {
   "codemirror_mode": {
    "name": "ipython",
    "version": 3
   },
   "file_extension": ".py",
   "mimetype": "text/x-python",
   "name": "python",
   "nbconvert_exporter": "python",
   "pygments_lexer": "ipython3",
   "version": "3.10.12"
  }
 },
 "nbformat": 4,
 "nbformat_minor": 5
}
