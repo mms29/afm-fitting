{
 "cells": [
  {
   "cell_type": "markdown",
   "id": "3d2b3bc2-ac9a-4231-ad32-1f3d923530c5",
   "metadata": {},
   "source": [
    "# AFMFIT TUTORIAL version 0.1"
   ]
  },
  {
   "cell_type": "markdown",
   "id": "0dd35668-5e9c-480b-97b0-8552d40a704f",
   "metadata": {},
   "source": [
    "## 1. Import the AFM images\n",
    "\n",
    "The first step is to import the AFM images "
   ]
  },
  {
   "cell_type": "code",
   "execution_count": 3,
   "id": "48f53ed0-47e6-4da2-93db-11e51edce21c",
   "metadata": {},
   "outputs": [
    {
     "name": "stdout",
     "output_type": "stream",
     "text": [
      "Read 100 images of size 40 x 40 pix at 0.70 nm/pix \n"
     ]
    }
   ],
   "source": [
    "%matplotlib tk\n",
    "import os\n",
    "from afmfit.image import ImageSet\n",
    "\n",
    "# import the example images contained in the tiff\n",
    "imgs = ImageSet.read_tif(os.getcwd() + \"/examples_data/ef2.tiff\", vsize=7.0, unit=\"m\")\n",
    "\n",
    "# displays the images in a separate window\n",
    "imgs.show()"
   ]
  },
  {
   "cell_type": "markdown",
   "id": "3fac0f41-84f1-4da0-a6d5-645748f6e904",
   "metadata": {},
   "source": [
    "## 2. Import the PDB\n",
    "\n",
    "Read the PDB file to be used as initial model "
   ]
  },
  {
   "cell_type": "code",
   "execution_count": 2,
   "id": "ceaaa954-7072-4309-a3ba-ad06f22ffc40",
   "metadata": {},
   "outputs": [
    {
     "name": "stdout",
     "output_type": "stream",
     "text": [
      "The PDB file contains 6215 atoms\n"
     ]
    },
    {
     "name": "stderr",
     "output_type": "stream",
     "text": [
      "WARNING: Replacing fetcher for 'pdb_nmr' and format NMRSTAR from NMRSTAR bundle with that from NMRSTAR bundle\n"
     ]
    }
   ],
   "source": [
    "from afmfit.pdbio import PDB\n",
    "\n",
    "# read the PDB file\n",
    "pdb = PDB(os.getcwd() + \"/examples_data/ef2.pdb\")\n",
    "\n",
    "# center the atoms around the coordinate 0,0,0\n",
    "pdb.center()\n",
    "\n",
    "print(\"The PDB file contains %i atoms\"%pdb.n_atoms)\n",
    "\n",
    "# Show in ChimeraX (comment this line if Chimerax is not installed)\n",
    "pdb.viewChimera()"
   ]
  },
  {
   "cell_type": "markdown",
   "id": "05ce7f64-db59-4a6f-b0d2-b7974a2ed35a",
   "metadata": {},
   "source": [
    "## 4. Calculate NMA\n",
    "\n",
    "Performs Normal Mode Analysis using NOLB"
   ]
  },
  {
   "cell_type": "code",
   "execution_count": 5,
   "id": "6f3e8a57-f25d-42f9-97e6-08d881905c6e",
   "metadata": {
    "scrolled": true
   },
   "outputs": [
    {
     "name": "stdout",
     "output_type": "stream",
     "text": [
      "*******************************************************************\n",
      "*-----------------------------------------------------------------*\n",
      "*-----------NOLB : a Non-Linear rigid block NMA method------------*\n",
      "*----------Authors: Alexandre Hoffmann & Sergei Grudinin----------*\n",
      "*---------Copyright (c): UGA/CNRS Grenoble, France, 2023.---------*\n",
      "*-------- e-mail: sergei.grudinin@univ-grenoble-alpes.fr ---------*\n",
      "*---- http://team.inria.fr/nano-d/software/nolb-normal-modes/ ----*\n",
      "*-----------------------------------------------------------------*\n",
      "*******************************************************************\n",
      "Hostname......................................................... : ljk-ad-77\n",
      "Run at........................................................... : Wed Jun 12 14:04:39 2024\n",
      "Command-line arguments........................................... : /home/AD/vuillemr/miniconda/envs/imp/lib/python3.12/site-packages/afmfit/nolb/NOLB /tmp/tmpbrn492nl/.pdb -o /tmp/tmpbrn492nl/ -s 0 -n 3 --format 3 -c 8.000000 \n",
      "=====================Reading input PDB file======================\n",
      "Input PDB file................................................... : /tmp/tmpbrn492nl/.pdb\n",
      "Number of chains read............................................ : 1\n",
      "Number of atoms read............................................. : 6215\n",
      "======================Constructing Hessian=======================\n",
      "Number of disconnected atoms..................................... : 0\n",
      "Number of interactions........................................... : 511685\n",
      "Interaction cutoff distance...................................... : 8 A\n",
      "from pymol.cgo import *\n",
      "obj = [ BEGIN, LINES ]\n",
      "obj.extend( [ END ])\n",
      "cmd.load_cgo(obj,\"Hbonds\")\n",
      "Memory required for the Hessian matrix........................... : 105.404 Mb\n",
      "All-atom Hessian size : ......................................... : 18645 x 18645\n",
      "============================Doing NMA============================\n",
      "Memory required for the RTB projection matrix.................... : 1.707 Mb\n",
      "Reduced Hessian size : .......................................... : 4818 x 4818\n",
      "Number of computed modes......................................... : 3 \n",
      "Null-space size.................................................. : 1 \n",
      "Lowest mode frequency............................................ : 0.000969125 \n",
      "Highest mode frequency........................................... : 0.00157602 \n",
      "Frequencies :\n",
      "            [ 1]................................................. : 0.000969125 \n",
      "            [ 2]................................................. : 0.00149778 \n",
      "            [ 3]................................................. : 0.00157602 \n",
      "==================Writing Modes In Two Formats===================\n",
      "Using output mask................................................ : /tmp/tmpbrn492nl/\n",
      "Using output filename for linear modes........................... : /tmp/tmpbrn492nl/_linear_modes.txt\n",
      "Using output rtb filename........................................ : /tmp/tmpbrn492nl/_rtb.txt\n",
      "Using output rtb mapping filename................................ : /tmp/tmpbrn492nl/_rtb-mapping.txt\n",
      "=================================================================\n",
      "=========================== Timing : ============================\n",
      "=================================================================\n",
      "Parsing arguments................................................ : 0.000184144 s\n",
      "Reading input PDB file........................................... : 0.00722179 s\n",
      "Constructing Hessian............................................. : 0.188602 s\n",
      "Doing NMA........................................................ : 0.546176 s\n",
      "Writing Modes In Two Formats..................................... : 0.0546423 s\n",
      ".................................................................\n",
      "Total time : .................................................... : 0.796828 s\n",
      "=================================================================\n",
      "\n",
      "Main Reference: Alexandre Hoffmann & Sergei Grudinin. NOLB : Nonlinear rigid block normal mode analysis method. Journal of Chemical Theory and Computation, 2017, 13 (5), pp.2123-2134. DOI: 10.1021/acs.jctc.7b00197.\n",
      "\n",
      "> Wrinting dcd file /tmp/tmp_wcxgjpd/mode7.dcd\n",
      "\t Done \n",
      "\n",
      "> Wrinting dcd file /tmp/tmp_wcxgjpd/mode8.dcd\n",
      "\t Done \n",
      "\n",
      "> Wrinting dcd file /tmp/tmp_wcxgjpd/mode9.dcd\n",
      "\t Done \n",
      "\n"
     ]
    },
    {
     "name": "stderr",
     "output_type": "stream",
     "text": [
      "WARNING: Replacing fetcher for 'pdb_nmr' and format NMRSTAR from NMRSTAR bundle with that from NMRSTAR bundle\n"
     ]
    }
   ],
   "source": [
    "from afmfit.nma import NormalModesRTB\n",
    "\n",
    "# Set the desired number of modes and cutoff (in Angstrom) for the elastic network model (higher cutoff= more rigid)\n",
    "nma = NormalModesRTB.calculate_NMA(pdb,nmodes=3, cutoff=8.0)\n",
    "\n",
    "# Show in ChimeraX (comment this line if Chimerax is not installed)\n",
    "# press on the \"play\" button (bottom right) to diplay the desired mode. Switch between models in the model panel.\n",
    "nma.viewChimera(amp= 1000)"
   ]
  },
  {
   "cell_type": "markdown",
   "id": "cecc47c3-aff0-459b-95bc-f602eb053ecd",
   "metadata": {},
   "source": [
    "## 5. Set the AFM image simulator\n",
    "\n",
    "The fitting compares AFM-like images of the initial model to AFM experiments.\n",
    "This section defines the parameters of the AFM simulator."
   ]
  },
  {
   "cell_type": "code",
   "execution_count": 8,
   "id": "da51901b-2d0d-40c0-8e6b-7cb59e7297f9",
   "metadata": {},
   "outputs": [
    {
     "name": "stdout",
     "output_type": "stream",
     "text": [
      "Using matplotlib backend: tkagg\n"
     ]
    },
    {
     "data": {
      "text/plain": [
       "(<Figure size 1000x400 with 4 Axes>,\n",
       " array([<Axes: xlabel='nm', ylabel='nm'>, <Axes: xlabel='nm', ylabel='nm'>],\n",
       "       dtype=object))"
      ]
     },
     "execution_count": 8,
     "metadata": {},
     "output_type": "execute_result"
    }
   ],
   "source": [
    "%matplotlib tk\n",
    "from afmfit.simulator import AFMSimulator\n",
    "from afmfit.viewer import viewAFM\n",
    "\n",
    "# Set the parameters to simulate the pseudo-AFM images used for the fitting\n",
    "# Implements eq.1\n",
    "#  - sigma controls the smoothness\n",
    "#  - cutoff (angstrom) above which the computation is ignored. Decrease the computational time for smaller values.\n",
    "#  - beta can be kept to 1.0 (gamma in eq. 1)\n",
    "simulator = AFMSimulator(size=imgs.size, \n",
    "                         vsize=imgs.vsize, \n",
    "                         beta=1.0, sigma=3.2, cutoff=40)\n",
    "\n",
    "# Create an image of the PDB that have been loaded\n",
    "image = simulator.pdb2afm(pdb)\n",
    "\n",
    "# show the generated image vs the AFM image\n",
    "viewAFM([image, imgs.imgs[0]])\n"
   ]
  },
  {
   "cell_type": "markdown",
   "id": "3ac50963-9413-44aa-902b-007480ac6f29",
   "metadata": {},
   "source": [
    "## 6. Rigid Fitting\n",
    "\n",
    "The rigid fitting performs a global alignment of the PDB with the images"
   ]
  },
  {
   "cell_type": "code",
   "execution_count": 13,
   "id": "42c9735e-e897-4803-87dd-8681acaa1144",
   "metadata": {},
   "outputs": [
    {
     "name": "stderr",
     "output_type": "stream",
     "text": [
      "Project Library: 100%|██████████████████████████████████████████████████████████████████████████████████████████████████████████████████████████████████████████████████████████████████████████████████████████████████████████████████████████████████████████████████████| 11304/11304 [00:10<00:00, 1052.34it/s]\n",
      "Projection Matching: 100%|████████████████████████████████████████████████████████████████████████████████████████████████████████████████████████████████████████████████████████████████████████████████████████████████████████████████████████████████████████████████████████| 100/100 [00:23<00:00,  4.33it/s]\n"
     ]
    }
   ],
   "source": [
    "# import the fitter\n",
    "from afmfit.fitting import Fitter\n",
    "import numpy as np\n",
    "\n",
    "# defines the fitter\n",
    "fitter = Fitter(pdb=pdb, imgs=imgs.imgs, simulator=simulator)\n",
    "\n",
    "# Performs the rigid fitting - implements eq.2-5\n",
    "# - n_cpu : set the number of cpus to use\n",
    "# - angular_dist :  set the angular increment for the rigid-body search\n",
    "# - zshift_range : set the translational increment in the z-axis for the rigid body search. Ex : between -20 Ang and 20 Ang with 10 increments\n",
    "fitter.fit_rigid(n_cpu=16, \n",
    "                 angular_dist=10, \n",
    "                 verbose=True, \n",
    "                 zshift_range=np.linspace(-10,10,5),\n",
    "                 true_zshift=False)\n",
    "\n",
    "# save the fitting on the disk\n",
    "fitter.dump(os.getcwd() +'/examples_data/rigid.pkl')"
   ]
  },
  {
   "cell_type": "code",
   "execution_count": 14,
   "id": "d154acc7-f4a3-40cf-9f67-0a5431f6082f",
   "metadata": {},
   "outputs": [],
   "source": [
    "# reload the fitting if needed\n",
    "fitter = Fitter.load(os.getcwd() +'/examples_data/rigid.pkl')\n",
    "\n",
    "# show the results\n",
    "fitter.show()"
   ]
  },
  {
   "cell_type": "markdown",
   "id": "341a365c-ab7f-4481-88d3-fd7fd6170c65",
   "metadata": {},
   "source": [
    "## 7. Flexible fitting\n",
    "\n",
    "Flexibly aligns the model with the images"
   ]
  },
  {
   "cell_type": "code",
   "execution_count": 15,
   "id": "eb0ec9de-5fc7-4d99-90f9-535a3d323832",
   "metadata": {},
   "outputs": [
    {
     "name": "stderr",
     "output_type": "stream",
     "text": [
      "Flexible Fitting: 100%|███████████████████████████████████████████████████████████████████████████████████████████████████████████████████████████████████████████████████████████████████████████████████████████████████████████████████████████████████████████████████████████| 100/100 [02:57<00:00,  1.77s/it]\n"
     ]
    }
   ],
   "source": [
    "# Flexible fitting - impelments eq. 9-19\n",
    "fitter.fit_flexible(n_cpu=16,          # number of CPU\n",
    "                    nma=nma,           # Normal mode analysis object\n",
    "                    n_best_views=10,   # Number of rigid views to test as initial pose. \n",
    "                    dist_views=15,     # Angular distance (°) between the n_best_views to test.\n",
    "                    n_iter=10,         # Number of iteration of the algorithm. 10 is typically enough, \n",
    "                    lambda_r=20,       # \n",
    "                    lambda_f=20, \n",
    "                    verbose=True)\n",
    "\n",
    "fitter.dump(os.getcwd() +'/examples_data/flexible.pkl')"
   ]
  },
  {
   "cell_type": "code",
   "execution_count": 19,
   "id": "6e557381-b0eb-43bd-bf18-56f19af67d57",
   "metadata": {},
   "outputs": [],
   "source": [
    "fitter = Fitter.load(os.getcwd() +'/examples_data/flexible.pkl')\n",
    "\n",
    "fitter.show()"
   ]
  },
  {
   "cell_type": "markdown",
   "id": "aea76887-a4e8-4707-9547-de39ec2a485e",
   "metadata": {},
   "source": [
    "## 8 Conformational Space with PCA\n",
    "\n",
    "Calculation fo the conformational space from the fitted models. In this synthetic example, the conformational space describe a circle in the two first normal modes."
   ]
  },
  {
   "cell_type": "code",
   "execution_count": 18,
   "id": "b4514a40-a458-45f8-91e0-7fb6f5fdd8f0",
   "metadata": {},
   "outputs": [
    {
     "name": "stdout",
     "output_type": "stream",
     "text": [
      "0\n",
      "1\n",
      "2\n",
      "3\n",
      "4\n",
      "5\n",
      "6\n",
      "7\n",
      "8\n",
      "9\n",
      "10\n",
      "11\n",
      "12\n",
      "13\n",
      "14\n",
      "15\n",
      "16\n",
      "17\n",
      "18\n",
      "19\n",
      "20\n",
      "21\n",
      "22\n",
      "23\n",
      "24\n",
      "25\n",
      "26\n",
      "27\n",
      "28\n",
      "29\n",
      "30\n",
      "31\n",
      "32\n",
      "33\n",
      "34\n",
      "35\n",
      "36\n",
      "37\n",
      "38\n",
      "39\n",
      "40\n",
      "41\n",
      "42\n",
      "43\n",
      "44\n",
      "45\n",
      "46\n",
      "47\n",
      "48\n",
      "49\n",
      "50\n",
      "51\n",
      "52\n",
      "53\n",
      "54\n",
      "55\n",
      "56\n",
      "57\n",
      "58\n",
      "59\n",
      "60\n",
      "61\n",
      "62\n",
      "63\n",
      "64\n",
      "65\n",
      "66\n",
      "67\n",
      "68\n",
      "69\n",
      "70\n",
      "71\n",
      "72\n",
      "73\n",
      "74\n",
      "75\n",
      "76\n",
      "77\n",
      "78\n",
      "79\n",
      "80\n",
      "81\n",
      "82\n",
      "83\n",
      "84\n",
      "85\n",
      "86\n",
      "87\n",
      "88\n",
      "89\n",
      "90\n",
      "91\n",
      "92\n",
      "93\n",
      "94\n",
      "95\n",
      "96\n",
      "97\n",
      "98\n",
      "99\n"
     ]
    }
   ],
   "source": [
    "from afmfit.utils import DimRed\n",
    "\n",
    "pca =DimRed.from_fitter(fitter=fitter, method=\"pca\", n_components=10)\n",
    "\n",
    "pca.show(ax=[0,1], cval=fitter.get_best_rmsd(), cname=\"RMSD (Angstrom)\" )\n",
    "pca.show_pca_ev()\n",
    "#pca.viewAxisChimera(ax=0, avg=True)"
   ]
  }
 ],
 "metadata": {
  "kernelspec": {
   "display_name": "Python 3 (ipykernel)",
   "language": "python",
   "name": "python3"
  },
  "language_info": {
   "codemirror_mode": {
    "name": "ipython",
    "version": 3
   },
   "file_extension": ".py",
   "mimetype": "text/x-python",
   "name": "python",
   "nbconvert_exporter": "python",
   "pygments_lexer": "ipython3",
   "version": "3.12.3"
  }
 },
 "nbformat": 4,
 "nbformat_minor": 5
}
